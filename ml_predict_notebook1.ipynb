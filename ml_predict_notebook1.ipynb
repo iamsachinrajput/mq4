{
  "nbformat": 4,
  "nbformat_minor": 0,
  "metadata": {
    "colab": {
      "provenance": [],
      "authorship_tag": "ABX9TyP945WluTx3lLDCjgT2OwkF",
      "include_colab_link": true
    },
    "kernelspec": {
      "name": "python3",
      "display_name": "Python 3"
    },
    "language_info": {
      "name": "python"
    }
  },
  "cells": [
    {
      "cell_type": "markdown",
      "metadata": {
        "id": "view-in-github",
        "colab_type": "text"
      },
      "source": [
        "<a href=\"https://colab.research.google.com/github/iamsachinrajput/mq4/blob/main/ml_predict_notebook1.ipynb\" target=\"_parent\"><img src=\"https://colab.research.google.com/assets/colab-badge.svg\" alt=\"Open In Colab\"/></a>"
      ]
    },
    {
      "cell_type": "code",
      "execution_count": 105,
      "metadata": {
        "id": "lvZR32AuQWNc"
      },
      "outputs": [],
      "source": [
        "import pandas as pd\n",
        "import numpy as np\n",
        "import matplotlib.pyplot as plt\n",
        "import pandas\n",
        "import math\n",
        "from keras.models import Sequential\n",
        "from keras.layers import Dense,LSTM\n",
        "from keras.layers.core import Dropout\n",
        "from sklearn.preprocessing import MinMaxScaler\n",
        "from sklearn.metrics import mean_squared_error\n",
        "from sklearn.metrics import mean_absolute_error\n",
        "numpy.random.seed(7)"
      ]
    },
    {
      "cell_type": "code",
      "source": [
        "numpy.random.seed(7)\n",
        "#df = pd.read_csv(\"https://raw.githubusercontent.com/iamsachinrajput/mq4/main/Files/mq4_data_to_csv_EURUSD_5_10000.txt\",delimiter=\";\")\n",
        "df=pd.read_csv(\"https://raw.githubusercontent.com/iamsachinrajput/mq4/main/Files/mq4_data_to_csv_GBPUSD_15_149292.txt\",delimiter=\";\")\n",
        "\n",
        "#df=df[:5000]\n",
        "print(df.shape)\n",
        "print(df.head(), df.columns,df.tail())\n"
      ],
      "metadata": {
        "colab": {
          "base_uri": "https://localhost:8080/"
        },
        "id": "v17HUq60QhTW",
        "outputId": "de6f5a95-dade-4f02-e284-c70a71a8cffb"
      },
      "execution_count": 163,
      "outputs": [
        {
          "output_type": "stream",
          "name": "stdout",
          "text": [
            "(149293, 31)\n",
            "      Symbol         date time     open     high      low    close   close5  \\\n",
            "0  GBPUSD_15  2016.06.14 18:30  1.41390  1.41418  1.41236  1.41254  1.41417   \n",
            "1  GBPUSD_15  2016.06.14 18:45  1.41254  1.41319  1.41210  1.41287  1.41357   \n",
            "2  GBPUSD_15  2016.06.14 19:00  1.41286  1.41287  1.41102  1.41138  1.41472   \n",
            "3  GBPUSD_15  2016.06.14 19:15  1.41138  1.41175  1.41095  1.41154  1.41477   \n",
            "4  GBPUSD_15  2016.06.14 19:30  1.41151  1.41163  1.40997  1.41061  1.41390   \n",
            "\n",
            "   close10  close15       AC  ...       MA     OsMA  MACD_GAP      OBV  \\\n",
            "0  1.41081  1.41287  0.00037  ...  4.58749  1.41360   0.00053  0.00036   \n",
            "1  1.41010  1.41173  0.00005  ...  4.44715  1.41360   0.00036  0.00025   \n",
            "2  1.41254  1.41116 -0.00036  ...  4.00671  1.41354   0.00025  0.00005   \n",
            "3  1.41241  1.41138 -0.00077  ... -9.49132  1.41353   0.00005 -0.00008   \n",
            "4  1.41302  1.41135 -0.00102  ...  3.45220  1.41354  -0.00008 -0.00023   \n",
            "\n",
            "        SAR      RSI       RVI   STDDEV  Stochastic_GAP       WPR  \n",
            "0 -182028.0  1.40939  45.17528  0.05157         0.00164   4.75034  \n",
            "1 -181177.0  1.40950  46.61103  0.15076         0.00087 -22.52776  \n",
            "2 -182250.0  1.40962  41.34609  0.10819         0.00110 -14.60058  \n",
            "3 -181421.0  1.40973  42.10237  0.04462         0.00127  -2.45732  \n",
            "4 -182324.0  1.40984  38.95802 -0.04144         0.00155  -0.82273  \n",
            "\n",
            "[5 rows x 31 columns] Index(['Symbol', 'date time', 'open', 'high', 'low', 'close', 'close5',\n",
            "       'close10', 'close15', 'AC', 'AD', 'AO', 'ATR', 'BEP', 'BUP', 'DMK',\n",
            "       'FORCE', 'FRACTAL', 'ICHIMOKU', 'BWMFI', 'Momentum_GAP', 'MA', 'OsMA',\n",
            "       'MACD_GAP', 'OBV', 'SAR', 'RSI', 'RVI', 'STDDEV', 'Stochastic_GAP',\n",
            "       'WPR'],\n",
            "      dtype='object')            Symbol         date time     open     high      low    close  \\\n",
            "149288  GBPUSD_15  2022.11.04 01:30  1.11828  1.11952  1.11810  1.11946   \n",
            "149289  GBPUSD_15  2022.11.04 01:45  1.11945  1.11987  1.11917  1.11982   \n",
            "149290  GBPUSD_15  2022.11.04 02:00  1.11984  1.12014  1.11916  1.12004   \n",
            "149291  GBPUSD_15  2022.11.04 02:15  1.12006  1.12020  1.11952  1.11961   \n",
            "149292  GBPUSD_15  2022.11.04 02:30  1.11961  1.12077  1.11958  1.12044   \n",
            "\n",
            "         close5  close10  close15       AC  ...       MA     OsMA  MACD_GAP  \\\n",
            "149288  1.11883  1.11655  1.11601  0.00027  ...  4.73566  1.11687   0.00040   \n",
            "149289  1.11767  1.11675  1.11560  0.00030  ...  4.24406  1.11687   0.00042   \n",
            "149290  1.11838  1.11670  1.11597  0.00040  ...  1.60780  1.11694   0.00043   \n",
            "149291  1.11849  1.11702  1.11650  0.00046  ... -6.69016  1.11705   0.00043   \n",
            "149292  1.11827  1.11826  1.11637  0.00056  ...  0.74852  1.11714   0.00038   \n",
            "\n",
            "            OBV       SAR      RSI       RVI   STDDEV  Stochastic_GAP      WPR  \n",
            "149288  0.00042  106450.0  1.11702  63.59425  0.24489         0.00088  5.99915  \n",
            "149289  0.00043  107341.0  1.11737  65.45877  0.25577         0.00093  7.22989  \n",
            "149290  0.00043  108232.0  1.11777  66.58504  0.28315         0.00090  9.01800  \n",
            "149291  0.00038  107399.0  1.11819  62.30859  0.28938         0.00076 -1.38194  \n",
            "149292  0.00038  108036.0  1.11860  66.74794  0.26462         0.00085 -4.46044  \n",
            "\n",
            "[5 rows x 31 columns]\n"
          ]
        }
      ]
    },
    {
      "cell_type": "code",
      "source": [
        "df.shape"
      ],
      "metadata": {
        "colab": {
          "base_uri": "https://localhost:8080/"
        },
        "id": "njFkTBrtTjcw",
        "outputId": "9e85c24c-3f14-44e1-e2c1-70d05ef29dab"
      },
      "execution_count": 164,
      "outputs": [
        {
          "output_type": "execute_result",
          "data": {
            "text/plain": [
              "(149293, 31)"
            ]
          },
          "metadata": {},
          "execution_count": 164
        }
      ]
    },
    {
      "cell_type": "code",
      "source": [
        "#visualise the data \n",
        "#import matplotlib.dates as mdates\n",
        "#df=df[:3000]\n",
        "date=pd.to_datetime(df['date time'])\n",
        "value=df['close']\n",
        "\n",
        "fig, ax = plt.subplots(figsize=(22, 6))\n",
        "#ax.xaxis.set_major_formatter(year_month_formatter)\n",
        "ax.plot(date, value);"
      ],
      "metadata": {
        "colab": {
          "base_uri": "https://localhost:8080/",
          "height": 374
        },
        "id": "K6yle2rFTsL8",
        "outputId": "7aa74c05-5a25-4499-e6a3-4b3cd2c342eb"
      },
      "execution_count": 165,
      "outputs": [
        {
          "output_type": "display_data",
          "data": {
            "text/plain": [
              "<Figure size 1584x432 with 1 Axes>"
            ],
            "image/png": "[encoded data removed]"
          },
          "metadata": {
            "needs_background": "light"
          }
        }
      ]
    },
    {
      "cell_type": "code",
      "source": [
        "# convert the data for scaler \n",
        "\n",
        "data=df.filter(['close'])\n",
        "dataset=data.values\n",
        "training_data_length=math.ceil(len(dataset)*.8)\n",
        "training_data_length"
      ],
      "metadata": {
        "colab": {
          "base_uri": "https://localhost:8080/"
        },
        "id": "8AzRNwticwQk",
        "outputId": "ca7522a3-b0eb-4dbc-d156-348317105827"
      },
      "execution_count": 166,
      "outputs": [
        {
          "output_type": "execute_result",
          "data": {
            "text/plain": [
              "119435"
            ]
          },
          "metadata": {},
          "execution_count": 166
        }
      ]
    },
    {
      "cell_type": "code",
      "source": [
        "#scale the data to be just between 0 to 1 \n",
        "scaler=MinMaxScaler(feature_range=(0,1))\n",
        "scaled_data=scaler.fit_transform(dataset)\n",
        "#scaled_data.view()"
      ],
      "metadata": {
        "id": "61aej2-odSa7"
      },
      "execution_count": 168,
      "outputs": []
    },
    {
      "cell_type": "code",
      "source": [
        "## create training data from scaled data \n",
        "train_data=scaled_data[0:training_data_length,:]\n",
        "train_data.shape\n"
      ],
      "metadata": {
        "colab": {
          "base_uri": "https://localhost:8080/"
        },
        "id": "-CMn1JzTeQa5",
        "outputId": "77eed6d1-d688-44e7-f347-2a8aa3d77578"
      },
      "execution_count": 169,
      "outputs": [
        {
          "output_type": "execute_result",
          "data": {
            "text/plain": [
              "(119435, 1)"
            ]
          },
          "metadata": {},
          "execution_count": 169
        }
      ]
    },
    {
      "cell_type": "code",
      "source": [
        "### create the training model \n",
        "x_train=[]\n",
        "y_train=[]\n",
        "\n",
        "for i in range(60,training_data_length):\n",
        "  x_train.append(train_data[i-60:i,0])\n",
        "  y_train.append(train_data[i,0])\n",
        "  if i<=61:\n",
        "    print(x_train)\n",
        "    print(y_train)\n",
        "    print()\n",
        "\n",
        "\n"
      ],
      "metadata": {
        "colab": {
          "base_uri": "https://localhost:8080/"
        },
        "id": "8DClXqqYh47t",
        "outputId": "f18c717c-b89e-473c-8b7d-053597962f44"
      },
      "execution_count": 170,
      "outputs": [
        {
          "output_type": "stream",
          "name": "stdout",
          "text": [
            "[array([0.80895633, 0.80967266, 0.80643831, 0.80678562, 0.80476687,\n",
            "       0.80392029, 0.80402883, 0.8045498 , 0.80296518, 0.80478857,\n",
            "       0.80511418, 0.80591734, 0.80669879, 0.80533125, 0.80274811,\n",
            "       0.80350786, 0.80483199, 0.80504906, 0.80615612, 0.80587393,\n",
            "       0.80530954, 0.80552661, 0.80606929, 0.80585222, 0.80574368,\n",
            "       0.80715464, 0.80724147, 0.80717635, 0.80563515, 0.80600417,\n",
            "       0.806091  , 0.80515759, 0.8082617 , 0.80962924, 0.81077972,\n",
            "       0.81034558, 0.81060606, 0.81054094, 0.81108362, 0.81219067,\n",
            "       0.81223409, 0.81247287, 0.81223409, 0.8119736 , 0.81099679,\n",
            "       0.81153946, 0.81077972, 0.81190848, 0.81275506, 0.81277676,\n",
            "       0.81707476, 0.81855084, 0.81796475, 0.81679257, 0.81872449,\n",
            "       0.81609794, 0.82083008, 0.81900669, 0.81889815, 0.82141617])]\n",
            "[0.8240427194581921]\n",
            "\n",
            "[array([0.80895633, 0.80967266, 0.80643831, 0.80678562, 0.80476687,\n",
            "       0.80392029, 0.80402883, 0.8045498 , 0.80296518, 0.80478857,\n",
            "       0.80511418, 0.80591734, 0.80669879, 0.80533125, 0.80274811,\n",
            "       0.80350786, 0.80483199, 0.80504906, 0.80615612, 0.80587393,\n",
            "       0.80530954, 0.80552661, 0.80606929, 0.80585222, 0.80574368,\n",
            "       0.80715464, 0.80724147, 0.80717635, 0.80563515, 0.80600417,\n",
            "       0.806091  , 0.80515759, 0.8082617 , 0.80962924, 0.81077972,\n",
            "       0.81034558, 0.81060606, 0.81054094, 0.81108362, 0.81219067,\n",
            "       0.81223409, 0.81247287, 0.81223409, 0.8119736 , 0.81099679,\n",
            "       0.81153946, 0.81077972, 0.81190848, 0.81275506, 0.81277676,\n",
            "       0.81707476, 0.81855084, 0.81796475, 0.81679257, 0.81872449,\n",
            "       0.81609794, 0.82083008, 0.81900669, 0.81889815, 0.82141617]), array([0.80967266, 0.80643831, 0.80678562, 0.80476687, 0.80392029,\n",
            "       0.80402883, 0.8045498 , 0.80296518, 0.80478857, 0.80511418,\n",
            "       0.80591734, 0.80669879, 0.80533125, 0.80274811, 0.80350786,\n",
            "       0.80483199, 0.80504906, 0.80615612, 0.80587393, 0.80530954,\n",
            "       0.80552661, 0.80606929, 0.80585222, 0.80574368, 0.80715464,\n",
            "       0.80724147, 0.80717635, 0.80563515, 0.80600417, 0.806091  ,\n",
            "       0.80515759, 0.8082617 , 0.80962924, 0.81077972, 0.81034558,\n",
            "       0.81060606, 0.81054094, 0.81108362, 0.81219067, 0.81223409,\n",
            "       0.81247287, 0.81223409, 0.8119736 , 0.81099679, 0.81153946,\n",
            "       0.81077972, 0.81190848, 0.81275506, 0.81277676, 0.81707476,\n",
            "       0.81855084, 0.81796475, 0.81679257, 0.81872449, 0.81609794,\n",
            "       0.82083008, 0.81900669, 0.81889815, 0.82141617, 0.82404272])]\n",
            "[0.8240427194581921, 0.8229573673699746]\n",
            "\n"
          ]
        }
      ]
    },
    {
      "cell_type": "code",
      "source": [
        "## change the shape of x_train data for training with LSTM as it needs 3 Dimnesional data but x_train is 2 d\n",
        "x_train=np.array(x_train)\n",
        "y_train=np.array(y_train)\n",
        "x_train.shape\n"
      ],
      "metadata": {
        "colab": {
          "base_uri": "https://localhost:8080/"
        },
        "id": "S6os3cdJjlXF",
        "outputId": "9cec9133-3d8a-47b4-e7fa-a65e278c4a98"
      },
      "execution_count": 171,
      "outputs": [
        {
          "output_type": "execute_result",
          "data": {
            "text/plain": [
              "(119375, 60)"
            ]
          },
          "metadata": {},
          "execution_count": 171
        }
      ]
    },
    {
      "cell_type": "code",
      "source": [
        "x_train=np.reshape(x_train,(x_train.shape[0],x_train.shape[1],1))\n",
        "x_train.shape"
      ],
      "metadata": {
        "colab": {
          "base_uri": "https://localhost:8080/"
        },
        "id": "yeqTTDrNkSr2",
        "outputId": "f0a4f61c-e1d5-4532-c834-963f5f3f53e3"
      },
      "execution_count": 172,
      "outputs": [
        {
          "output_type": "execute_result",
          "data": {
            "text/plain": [
              "(119375, 60, 1)"
            ]
          },
          "metadata": {},
          "execution_count": 172
        }
      ]
    },
    {
      "cell_type": "code",
      "source": [
        "## create model for training \n",
        "model=Sequential()\n",
        "model.add(LSTM(50,return_sequences=True,input_shape=(x_train.shape[1],1)))\n",
        "model.add(LSTM(50,return_sequences=False))\n",
        "model.add(Dense(25))\n",
        "model.add(Dense(1))\n",
        "model.compile(optimizer='adam',loss='mean_squared_error')\n",
        "\n"
      ],
      "metadata": {
        "id": "u3c42evmm7Rz"
      },
      "execution_count": 173,
      "outputs": []
    },
    {
      "cell_type": "code",
      "source": [
        "## train our model with our data  it will take time . \n",
        "model.fit(x_train,y_train,batch_size=100,epochs=2,verbose=1)\n"
      ],
      "metadata": {
        "colab": {
          "base_uri": "https://localhost:8080/"
        },
        "id": "6RiUl4yLoIzC",
        "outputId": "87d248e2-35d1-4d70-efa0-68b01a56d7ca"
      },
      "execution_count": 175,
      "outputs": [
        {
          "output_type": "stream",
          "name": "stdout",
          "text": [
            "Epoch 1/2\n",
            "1194/1194 [==============================] - 118s 99ms/step - loss: 2.1341e-05\n",
            "Epoch 2/2\n",
            "1194/1194 [==============================] - 114s 96ms/step - loss: 2.1043e-05\n"
          ]
        },
        {
          "output_type": "execute_result",
          "data": {
            "text/plain": [
              "<keras.callbacks.History at 0x7f40f16e6e50>"
            ]
          },
          "metadata": {},
          "execution_count": 175
        }
      ]
    },
    {
      "cell_type": "code",
      "source": [
        "## now model is trained we will test how it predicts. \n",
        "## create test data first . \n",
        "test_data=scaled_data[training_data_length-60:,:]\n",
        "x_test=[]\n",
        "y_actual_value=dataset[training_data_length:,:]\n",
        "\n",
        "for i in range(60,len(test_data)):\n",
        "  x_test.append(test_data[i-60:i,0])\n",
        "  \n",
        "x_test[:5]"
      ],
      "metadata": {
        "colab": {
          "base_uri": "https://localhost:8080/"
        },
        "id": "KRmm9LwOsxxC",
        "outputId": "9d12caf1-eaee-4a7b-909f-f176821e2967"
      },
      "execution_count": 176,
      "outputs": [
        {
          "output_type": "execute_result",
          "data": {
            "text/plain": [
              "[array([0.74509421, 0.74416081, 0.74483372, 0.74585396, 0.74546323,\n",
              "        0.74654858, 0.74541981, 0.74431276, 0.74544152, 0.744443  ,\n",
              "        0.74379179, 0.74657029, 0.74861075, 0.74921855, 0.7469176 ,\n",
              "        0.74505079, 0.74689589, 0.7506078 , 0.74778588, 0.7475254 ,\n",
              "        0.7490666 , 0.74897977, 0.75121559, 0.75086828, 0.74904489,\n",
              "        0.75017366, 0.74863246, 0.74685248, 0.74663541, 0.74337935,\n",
              "        0.74296692, 0.74214205, 0.73994964, 0.7407528 , 0.74170791,\n",
              "        0.74272814, 0.74235912, 0.74331423, 0.74324911, 0.74407398,\n",
              "        0.74379179, 0.74363984, 0.74463836, 0.74485543, 0.74505079,\n",
              "        0.7453764 , 0.74311887, 0.74288009, 0.74307545, 0.74242424,\n",
              "        0.74296692, 0.7432274 , 0.74342277, 0.74363984, 0.74296692,\n",
              "        0.74329252, 0.7435313 , 0.74426934, 0.74470348, 0.74411739]),\n",
              " array([0.74416081, 0.74483372, 0.74585396, 0.74546323, 0.74654858,\n",
              "        0.74541981, 0.74431276, 0.74544152, 0.744443  , 0.74379179,\n",
              "        0.74657029, 0.74861075, 0.74921855, 0.7469176 , 0.74505079,\n",
              "        0.74689589, 0.7506078 , 0.74778588, 0.7475254 , 0.7490666 ,\n",
              "        0.74897977, 0.75121559, 0.75086828, 0.74904489, 0.75017366,\n",
              "        0.74863246, 0.74685248, 0.74663541, 0.74337935, 0.74296692,\n",
              "        0.74214205, 0.73994964, 0.7407528 , 0.74170791, 0.74272814,\n",
              "        0.74235912, 0.74331423, 0.74324911, 0.74407398, 0.74379179,\n",
              "        0.74363984, 0.74463836, 0.74485543, 0.74505079, 0.7453764 ,\n",
              "        0.74311887, 0.74288009, 0.74307545, 0.74242424, 0.74296692,\n",
              "        0.7432274 , 0.74342277, 0.74363984, 0.74296692, 0.74329252,\n",
              "        0.7435313 , 0.74426934, 0.74470348, 0.74411739, 0.7447686 ]),\n",
              " array([0.74483372, 0.74585396, 0.74546323, 0.74654858, 0.74541981,\n",
              "        0.74431276, 0.74544152, 0.744443  , 0.74379179, 0.74657029,\n",
              "        0.74861075, 0.74921855, 0.7469176 , 0.74505079, 0.74689589,\n",
              "        0.7506078 , 0.74778588, 0.7475254 , 0.7490666 , 0.74897977,\n",
              "        0.75121559, 0.75086828, 0.74904489, 0.75017366, 0.74863246,\n",
              "        0.74685248, 0.74663541, 0.74337935, 0.74296692, 0.74214205,\n",
              "        0.73994964, 0.7407528 , 0.74170791, 0.74272814, 0.74235912,\n",
              "        0.74331423, 0.74324911, 0.74407398, 0.74379179, 0.74363984,\n",
              "        0.74463836, 0.74485543, 0.74505079, 0.7453764 , 0.74311887,\n",
              "        0.74288009, 0.74307545, 0.74242424, 0.74296692, 0.7432274 ,\n",
              "        0.74342277, 0.74363984, 0.74296692, 0.74329252, 0.7435313 ,\n",
              "        0.74426934, 0.74470348, 0.74411739, 0.7447686 , 0.74496397]),\n",
              " array([0.74585396, 0.74546323, 0.74654858, 0.74541981, 0.74431276,\n",
              "        0.74544152, 0.744443  , 0.74379179, 0.74657029, 0.74861075,\n",
              "        0.74921855, 0.7469176 , 0.74505079, 0.74689589, 0.7506078 ,\n",
              "        0.74778588, 0.7475254 , 0.7490666 , 0.74897977, 0.75121559,\n",
              "        0.75086828, 0.74904489, 0.75017366, 0.74863246, 0.74685248,\n",
              "        0.74663541, 0.74337935, 0.74296692, 0.74214205, 0.73994964,\n",
              "        0.7407528 , 0.74170791, 0.74272814, 0.74235912, 0.74331423,\n",
              "        0.74324911, 0.74407398, 0.74379179, 0.74363984, 0.74463836,\n",
              "        0.74485543, 0.74505079, 0.7453764 , 0.74311887, 0.74288009,\n",
              "        0.74307545, 0.74242424, 0.74296692, 0.7432274 , 0.74342277,\n",
              "        0.74363984, 0.74296692, 0.74329252, 0.7435313 , 0.74426934,\n",
              "        0.74470348, 0.74411739, 0.7447686 , 0.74496397, 0.74548494]),\n",
              " array([0.74546323, 0.74654858, 0.74541981, 0.74431276, 0.74544152,\n",
              "        0.744443  , 0.74379179, 0.74657029, 0.74861075, 0.74921855,\n",
              "        0.7469176 , 0.74505079, 0.74689589, 0.7506078 , 0.74778588,\n",
              "        0.7475254 , 0.7490666 , 0.74897977, 0.75121559, 0.75086828,\n",
              "        0.74904489, 0.75017366, 0.74863246, 0.74685248, 0.74663541,\n",
              "        0.74337935, 0.74296692, 0.74214205, 0.73994964, 0.7407528 ,\n",
              "        0.74170791, 0.74272814, 0.74235912, 0.74331423, 0.74324911,\n",
              "        0.74407398, 0.74379179, 0.74363984, 0.74463836, 0.74485543,\n",
              "        0.74505079, 0.7453764 , 0.74311887, 0.74288009, 0.74307545,\n",
              "        0.74242424, 0.74296692, 0.7432274 , 0.74342277, 0.74363984,\n",
              "        0.74296692, 0.74329252, 0.7435313 , 0.74426934, 0.74470348,\n",
              "        0.74411739, 0.7447686 , 0.74496397, 0.74548494, 0.74663541])]"
            ]
          },
          "metadata": {},
          "execution_count": 176
        }
      ]
    },
    {
      "cell_type": "code",
      "source": [
        "# convert the testing data into numpy with required shape \n",
        "x_test=np.array(x_test)\n",
        "x_test=np.reshape(x_test,(x_test.shape[0],x_test.shape[1],1))\n",
        "x_test.shape\n"
      ],
      "metadata": {
        "colab": {
          "base_uri": "https://localhost:8080/"
        },
        "id": "cJLPgXQuu2F7",
        "outputId": "9d00964d-4699-444f-a4ad-3b0a11c6e245"
      },
      "execution_count": 177,
      "outputs": [
        {
          "output_type": "execute_result",
          "data": {
            "text/plain": [
              "(29858, 60, 1)"
            ]
          },
          "metadata": {},
          "execution_count": 177
        }
      ]
    },
    {
      "cell_type": "code",
      "source": [
        "# now predict the data with our trained model \n",
        "scaled_predictions=model.predict(x_test)\n",
        "predictions=scaler.inverse_transform(scaled_predictions)\n"
      ],
      "metadata": {
        "colab": {
          "base_uri": "https://localhost:8080/"
        },
        "id": "wBV7NhbfvM7z",
        "outputId": "963a6fc1-e504-4594-d9c7-3384f3c3ff37"
      },
      "execution_count": 178,
      "outputs": [
        {
          "output_type": "stream",
          "name": "stdout",
          "text": [
            "934/934 [==============================] - 18s 18ms/step\n"
          ]
        }
      ]
    },
    {
      "cell_type": "code",
      "source": [
        "## check how good prediction was with rmse calculation \n",
        "rmse=np.sqrt(np.mean(predictions-y_actual_value)**2)\n",
        "rmse"
      ],
      "metadata": {
        "colab": {
          "base_uri": "https://localhost:8080/"
        },
        "id": "09ifb7c5yQQa",
        "outputId": "505ed417-0df5-4eb4-9e35-0d5df8f19efe"
      },
      "execution_count": 179,
      "outputs": [
        {
          "output_type": "execute_result",
          "data": {
            "text/plain": [
              "0.0011111907164219573"
            ]
          },
          "metadata": {},
          "execution_count": 179
        }
      ]
    },
    {
      "cell_type": "code",
      "source": [
        "\n",
        "## plot the data with predictions \n",
        "train=df[:training_data_length]\n",
        "valid=df[training_data_length:]\n",
        "valid['predictions']=predictions\n",
        "\n",
        "pred=valid.filter(['date time','predictions'])\n",
        "real=valid.filter(['date time','close'])\n"
      ],
      "metadata": {
        "colab": {
          "base_uri": "https://localhost:8080/"
        },
        "id": "tUsnx43Cy4c9",
        "outputId": "9525e174-f945-48c4-f735-d8312beae809"
      },
      "execution_count": 180,
      "outputs": [
        {
          "output_type": "stream",
          "name": "stderr",
          "text": [
            "/usr/local/lib/python3.7/dist-packages/ipykernel_launcher.py:4: SettingWithCopyWarning: \n",
            "A value is trying to be set on a copy of a slice from a DataFrame.\n",
            "Try using .loc[row_indexer,col_indexer] = value instead\n",
            "\n",
            "See the caveats in the documentation: https://pandas.pydata.org/pandas-docs/stable/user_guide/indexing.html#returning-a-view-versus-a-copy\n",
            "  after removing the cwd from sys.path.\n"
          ]
        }
      ]
    },
    {
      "cell_type": "code",
      "source": [
        "\n",
        "date_full=pd.to_datetime(df['date time'])\n",
        "value_full=df['close']\n",
        "\n",
        "date_pred=pd.to_datetime(pred['date time'])\n",
        "value_pred=pred['predictions']\n"
      ],
      "metadata": {
        "id": "Xmbr7h1M9Xp-"
      },
      "execution_count": 181,
      "outputs": []
    },
    {
      "cell_type": "code",
      "source": [
        "fig, ax = plt.subplots(figsize=(22, 6))\n",
        "#ax.xaxis.set_major_formatter(year_month_formatter)\n",
        "ax.plot(date_full, value_full)\n",
        "ax.plot(date_pred, value_pred);\n"
      ],
      "metadata": {
        "colab": {
          "base_uri": "https://localhost:8080/",
          "height": 374
        },
        "id": "S7wdv0hq8jF0",
        "outputId": "055ed0ef-0198-474d-bc89-7585b5d37a00"
      },
      "execution_count": 182,
      "outputs": [
        {
          "output_type": "display_data",
          "data": {
            "text/plain": [
              "<Figure size 1584x432 with 1 Axes>"
            ],
            "image/png": "[encoded data removed]"
          },
          "metadata": {
            "needs_background": "light"
          }
        }
      ]
    }
  ]
}